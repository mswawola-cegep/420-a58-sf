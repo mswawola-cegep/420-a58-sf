{
 "cells": [
  {
   "cell_type": "markdown",
   "metadata": {},
   "source": [
    "**420-A58-SF - Algorithmes d'apprentissage non supervisé - Été 2021 - Spécialisation technique en Intelligence Artificielle**<br/>\n",
    "MIT License - Copyright (c) 2021 Mikaël Swawola\n",
    "\n",
    "# Examen de fin de session"
   ]
  },
  {
   "cell_type": "markdown",
   "metadata": {},
   "source": [
    "---\n",
    "## À propos de l'examen"
   ]
  },
  {
   "cell_type": "markdown",
   "metadata": {},
   "source": [
    "* **Date et heure**: Mercredi 10 novembre 2021 de 18h00 à 22h00\n",
    "* **Pondération**: 40%\n",
    "* **Tous les documents sont autorisés**\n",
    "* **Il s'agit d'un travail individuel. Toute collaboration (avec quiconque!) est strictement interdite. Le non respect de cette consigne entraînera une note de 0 à l'examen.**\n",
    "* **<span style='color: red'>Conformément aux directives de la fédération des Cégeps, le professeur se réserve le droit de demander aux élèves d'activer leurs caméras et microphones afin de s'assurer du respect des conditions d'examen. Tout étudiant qui choisit de refuser cette mesure se place dans une situation équivalente à une non présentation à l’examen et s’expose donc à un échec. </span>**"
   ]
  },
  {
   "cell_type": "markdown",
   "metadata": {},
   "source": [
    "---\n",
    "## Avant de commencer"
   ]
  },
  {
   "cell_type": "markdown",
   "metadata": {},
   "source": [
    "* Cet examen couvre l'ensemble des chapitres du cours *420-A58-SF - Apprentisage non supervisé*. Des connaissances des *cours 420-A55-SF - Analyse exploratoire des données* et *420-A56-SF - Transformation de données* relatives à l'apprentissage non supervisé peuvent être requises.\n",
    "* Vous devrez rendre les fichiers `Examen-fin-de-session.ipynb` et `Examen-fin-de-session.Rmd` complétés de **vos réponses et de votre code** sur la plateforme Lea à la fin de l'examen.\n",
    "* Renommez les fichiers en incluant vos noms et prénoms. Exemple: **Examen-fin-de-session_&lt;nom&gt;_&lt;prenom&gt;.ipynb** et **Examen-fin-de-session_&lt;nom&gt;_&lt;prenom&gt;.Rmd**\n",
    "* L'examen est composé de 4 parties indépendantes. Elles peuvent être réalisées dans l'ordre de votre choix\n",
    "* <strong style='color: red'>Lisez bien les questions</strong> et **bon succès à tous !**"
   ]
  },
  {
   "cell_type": "markdown",
   "metadata": {},
   "source": [
    "---\n",
    "## Barème"
   ]
  },
  {
   "cell_type": "markdown",
   "metadata": {},
   "source": [
    "* **L'examen est noté sur 100 points**\n",
    "* Chaque partie compte pour 25 points"
   ]
  },
  {
   "cell_type": "markdown",
   "metadata": {},
   "source": [
    "---\n",
    "## Bibliothèques logicielles"
   ]
  },
  {
   "cell_type": "markdown",
   "metadata": {},
   "source": [
    "Importez ci-dessous les bibliothèques logicielles que vous jugerez utiles pour répondre aux questions de l'examen. Cette partie est à compléter au fur et à mesure que vous répondrez aux questions."
   ]
  },
  {
   "cell_type": "markdown",
   "metadata": {},
   "source": [
    "#### ----- Insérer l'importation des bibliothèques ci-dessous -----"
   ]
  },
  {
   "cell_type": "code",
   "execution_count": null,
   "metadata": {},
   "outputs": [],
   "source": []
  },
  {
   "cell_type": "markdown",
   "metadata": {},
   "source": [
    "---\n",
    "## Partie 1 - Partitionnement des états américains (25 points)"
   ]
  },
  {
   "cell_type": "markdown",
   "metadata": {},
   "source": [
    "Cette première partie de l'examen consiste à mettre en oeuvre l'algorithme de partitionnement des **k-moyennes** afin de regrouper les états américains présentant des \"ressemblances\". Les données sont contenues dans le fichiers `unclesam.csv` disponible dans le répertoire `data`."
   ]
  },
  {
   "cell_type": "markdown",
   "metadata": {},
   "source": [
    "#### Question 1-1 - Charger le jeu de données `unclesam.csv`. Utiliser le nom de l'état comme index de la trame de données. Combien d'états américains sont représentés ? Combien de colonnes y a-t-il ? (5 points)"
   ]
  },
  {
   "cell_type": "markdown",
   "metadata": {},
   "source": [
    "#### ----- Votre réponse ci-dessous -----"
   ]
  },
  {
   "cell_type": "code",
   "execution_count": null,
   "metadata": {},
   "outputs": [],
   "source": []
  },
  {
   "cell_type": "markdown",
   "metadata": {},
   "source": [
    "#### Question 1-2 - Est-il nécéssaire de mettre les données à l'échelle? Justifier votre réponse et effectuer la mise à l'échelle si nécéssaire. (5 points)"
   ]
  },
  {
   "cell_type": "markdown",
   "metadata": {},
   "source": [
    "#### ----- Votre réponse ci-dessous -----"
   ]
  },
  {
   "cell_type": "code",
   "execution_count": null,
   "metadata": {
    "scrolled": true
   },
   "outputs": [],
   "source": []
  },
  {
   "cell_type": "markdown",
   "metadata": {},
   "source": [
    "#### Question 1-3 - Appliquer l'algorithme de partitionnement des k-moyennes sur le jeu de données. Identifier un nombre de clusters pertinent (plusieurs possibilités ici, justifier votre choix). (10 points)"
   ]
  },
  {
   "cell_type": "markdown",
   "metadata": {},
   "source": [
    "#### ----- Votre réponse ci-dessous -----"
   ]
  },
  {
   "cell_type": "code",
   "execution_count": null,
   "metadata": {},
   "outputs": [],
   "source": []
  },
  {
   "cell_type": "markdown",
   "metadata": {},
   "source": [
    "#### Question 1-4 - Visualisez à l'aide d'une ACP le diagramme en nuage de points correspondant aux clusters obtenus. (5 points)"
   ]
  },
  {
   "cell_type": "markdown",
   "metadata": {},
   "source": [
    "#### ----- Votre réponse ci-dessous -----"
   ]
  },
  {
   "cell_type": "code",
   "execution_count": null,
   "metadata": {},
   "outputs": [],
   "source": []
  },
  {
   "cell_type": "markdown",
   "metadata": {},
   "source": [
    "#### Question 1-5 - FACULTATIVE, BONUS 5 POINTS - Ajouter le nom des états au dessus de chacun des points du diagramme précédent. Conclure sur la pertinence des résultats."
   ]
  },
  {
   "cell_type": "markdown",
   "metadata": {},
   "source": [
    "Vous pouvez vous inspirer de la page web [Adding labels in x y scatter plot with seaborn\n",
    "](https://stackoverflow.com/questions/46027653/adding-labels-in-x-y-scatter-plot-with-seaborn) pour afficher le nom des états. "
   ]
  },
  {
   "cell_type": "markdown",
   "metadata": {},
   "source": [
    "#### ----- Votre réponse ci-dessous -----"
   ]
  },
  {
   "cell_type": "code",
   "execution_count": null,
   "metadata": {},
   "outputs": [],
   "source": []
  },
  {
   "cell_type": "markdown",
   "metadata": {},
   "source": [
    "---\n",
    "## Partie 2 - Expression de gènes (25 points)"
   ]
  },
  {
   "cell_type": "markdown",
   "metadata": {},
   "source": [
    "Cette seconde partie de l'examen est consacrée à l'étude de l'expression de gènes en oncologie. Le jeu de données \"genes\" contient les expressions d'un gène mesurée à 100 instants différents pour 100 échantillons de tissus. L'expression d'un gène peut être \"Up\" ou \"Down\" et chaque échantillon correspond éventuellement à la présence d'une maladie. Les données sont contenues dans le fichiers `genes.csv` disponible dans le répertoire `data`."
   ]
  },
  {
   "cell_type": "markdown",
   "metadata": {},
   "source": [
    "À titre d'illustration, pour l'échantillon 1 (sample 1), les expressions d'un gène mesurées pour 100 instants différents sont représentées par:\n",
    "\n",
    "**sample1\t1U\t2U\t3D\t4U\t5D\t6U\t...\t95U\t96D\t97D\t98D\t99U\t100D**\n",
    "\n",
    "Dans l'exemple précédent, l'expression est \"Up\" à l'instant 1, \"Up\" à l'instant 2, \"Down\" à l'instant 3, etc...\n",
    "\n",
    "L'objectif de l'exercice consiste donc à trouver les expressions de gènes apparaissant fréquemment. La paire {44D, 72U} apparait par exemple 49 fois).\n",
    "\n",
    "**La colonne `maladie` ne sera pas exploitée dans cet examen.**"
   ]
  },
  {
   "cell_type": "markdown",
   "metadata": {},
   "source": [
    "#### Question 2-1 - À l'aide de la librairie Pandas, chargez le jeu de données `genes.csv`. Utiliser la première colonne comme index. (2.5 points)"
   ]
  },
  {
   "cell_type": "markdown",
   "metadata": {},
   "source": [
    "#### ----- Votre réponse ci-dessous -----"
   ]
  },
  {
   "cell_type": "code",
   "execution_count": null,
   "metadata": {},
   "outputs": [],
   "source": []
  },
  {
   "cell_type": "markdown",
   "metadata": {},
   "source": [
    "#### Question 2-2 - Selon le modèle Market-basket, à quels éléments des données correspondent respectivement les baskets (paniers) et les items (éléments) ? (2.5 points)"
   ]
  },
  {
   "cell_type": "markdown",
   "metadata": {},
   "source": [
    "#### ----- Votre réponse ci-dessous -----"
   ]
  },
  {
   "cell_type": "code",
   "execution_count": null,
   "metadata": {},
   "outputs": [],
   "source": []
  },
  {
   "cell_type": "markdown",
   "metadata": {},
   "source": [
    "#### Question 2-3 - En considérant un seuil de support de 35%, combien d'itemsets sont fréquents ? Quel est le support de l'itemset {13D,\t72U, 59U, 44D, 82D} ? (10 points)"
   ]
  },
  {
   "cell_type": "markdown",
   "metadata": {},
   "source": [
    "#### ----- Votre réponse ci-dessous -----"
   ]
  },
  {
   "cell_type": "code",
   "execution_count": null,
   "metadata": {},
   "outputs": [],
   "source": []
  },
  {
   "cell_type": "markdown",
   "metadata": {},
   "source": [
    "#### Question 2-4 - Quel est l'indice de confiance de la règle d'association {96D, 59U} => {72U} ? (10 points)"
   ]
  },
  {
   "cell_type": "markdown",
   "metadata": {},
   "source": [
    "#### ----- Votre réponse ci-dessous -----"
   ]
  },
  {
   "cell_type": "code",
   "execution_count": null,
   "metadata": {},
   "outputs": [],
   "source": []
  },
  {
   "cell_type": "markdown",
   "metadata": {},
   "source": [
    "---\n",
    "## Partie 3 - Recommandation de films (25 points)"
   ]
  },
  {
   "cell_type": "markdown",
   "metadata": {},
   "source": [
    "Cet exercice consiste à identifier des films similaires en vue de proposer à l'utilisateur une liste de choix de films à regarder. Le **vecteur profile** des films est disponible dans le fichier `movie-profile.npz`. C'est avec cette représentation que les films similaires seront identifiés. Les titres des films sont stockés dans `movie_ids.txt`."
   ]
  },
  {
   "cell_type": "markdown",
   "metadata": {},
   "source": [
    "#### Question 3-1 - Charger le vecteur profile des films (`movie-profile.npz`). Sur combien de variables sont représentés les films ? (5 points)"
   ]
  },
  {
   "cell_type": "markdown",
   "metadata": {},
   "source": [
    "#### ----- Votre réponse ci-dessous -----"
   ]
  },
  {
   "cell_type": "code",
   "execution_count": null,
   "metadata": {},
   "outputs": [],
   "source": []
  },
  {
   "cell_type": "markdown",
   "metadata": {},
   "source": [
    "#### Question 3-2 - À l'aide d'un technique de recherche, trouvez le film le plus similaire à Star Wars (celui de 1977). Donner son index, sa distance par rapport au film \"requête\", ainsi que son titre. Préciser la métrique utilisée. (20 points)"
   ]
  },
  {
   "cell_type": "markdown",
   "metadata": {},
   "source": [
    "#### ----- Votre réponse ci-dessous -----"
   ]
  },
  {
   "cell_type": "code",
   "execution_count": null,
   "metadata": {},
   "outputs": [],
   "source": []
  },
  {
   "cell_type": "markdown",
   "metadata": {},
   "source": [
    "---\n",
    "## Partie 4 - Séries temporelles (25 points)"
   ]
  },
  {
   "cell_type": "markdown",
   "metadata": {},
   "source": [
    "<strong style=\"color: red\">Cette partie doit être intégralement réalisée (réponses et code) au sein du fichier Examen-fin-de-session.Rmd.</strong>"
   ]
  },
  {
   "cell_type": "markdown",
   "metadata": {},
   "source": [
    "---\n",
    "## Fin de l'examen de fin de session"
   ]
  }
 ],
 "metadata": {
  "kernelspec": {
   "display_name": "420-a58-sf",
   "language": "python",
   "name": "420-a58-sf"
  },
  "language_info": {
   "codemirror_mode": {
    "name": "ipython",
    "version": 3
   },
   "file_extension": ".py",
   "mimetype": "text/x-python",
   "name": "python",
   "nbconvert_exporter": "python",
   "pygments_lexer": "ipython3",
   "version": "3.8.10"
  }
 },
 "nbformat": 4,
 "nbformat_minor": 4
}
