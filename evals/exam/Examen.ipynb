{
 "cells": [
  {
   "cell_type": "markdown",
   "metadata": {},
   "source": [
    "**420-A58-SF - Algorithmes d'apprentissage non supervisé - Été 2021 - Spécialisation technique en Intelligence Artificielle**<br/>\n",
    "MIT License - Copyright (c) 2021 Mikaël Swawola\n",
    "<br/>\n",
    "# Examen de mi-session\n",
    "<br/>"
   ]
  },
  {
   "cell_type": "markdown",
   "metadata": {},
   "source": [
    "# À propos de l'examen"
   ]
  },
  {
   "cell_type": "markdown",
   "metadata": {},
   "source": [
    "* **Date et heure**: Mardi 12 octobre 2021 de 18h00 à 20h00 (2 heures)\n",
    "* **Pondération**: 20%\n",
    "* **Tous les documents sont autorisés**\n",
    "* **Il s'agit d'un travail individuel. Toute collaboration (avec quiconque!) et plagiat sont strictement interdits. Le non respect de cette consigne entraînera une note de 0 à l'examen**.\n",
    "* **<span style='color: red'>Conformément aux directives du Cégep, le professeur se réserve le droit de demander aux élèves d'activer leurs caméras et microphones afin de vérifier le respect des conditions d'examen.</span>**\n",
    "* L'examen est noté sur 20 points"
   ]
  },
  {
   "cell_type": "markdown",
   "metadata": {},
   "source": [
    "---\n",
    "# Avant de commencer"
   ]
  },
  {
   "cell_type": "markdown",
   "metadata": {},
   "source": [
    "* Cet examen couvre l'ensemble des chapitres du cours *420-A58-SF - Apprentisage non supervisé* vus jusqu'à maintenant. Des connaissances des *cours 420-A55-SF - Analyse exploratoire des données* et *420-A56-SF - Transformation de données* relatifs à l'apprentissage non supervisé peuvent être requis (ex. ACP et TF-IDF).\n",
    "* Les jeux de données sont considérés comme préparés. Ils ne contiennent par exemple ni valeurs abérrantes, ni données manquantes.\n",
    "* Vous devrez rendre ce fichier complété de **vos réponses et de votre code** sur la plateforme Lea à la fin de l'examen.\n",
    "* Renommez le présent fichier en incluant vos noms et prénoms. Exemple: **Examen_&lt;nom&gt;_&lt;prenom&gt;.ipynb**\n",
    "* <strong style='color: red'>Lisez bien les questions</strong> et **bon succès à tous !**"
   ]
  },
  {
   "cell_type": "code",
   "execution_count": null,
   "metadata": {},
   "outputs": [],
   "source": [
    "%reload_ext autoreload\n",
    "%autoreload 2\n",
    "%matplotlib inline"
   ]
  },
  {
   "cell_type": "markdown",
   "metadata": {},
   "source": [
    "---\n",
    "# EXERCICE 1 - RÈGLES D'ASSOCIATION (5 POINTS)"
   ]
  },
  {
   "cell_type": "markdown",
   "metadata": {},
   "source": [
    "Passionné de films d'action, vous décidez de commencer une thèse de doctorat sur le sujet. Une première approche que vous choisissez est de constituer un jeu de données sur le casting de différents films d'action, afin de découvrir quels acteurs ou quelles actrices apparaissent souvent dans un même film. Votre choix se porte sur la fouille de données via la découverte de règles d'association à l'aide de l'algorithme Apriori.<br/>\n",
    "**Chargez le jeu de données `action.csv` et répondez aux question suivantes.**"
   ]
  },
  {
   "cell_type": "markdown",
   "metadata": {},
   "source": [
    "### Question 1-1 - En utilisant la librairie Python adéquate, trouver le support de la paire { Dolph Lundgren, Jean-Claude Van Damme } (3 points)"
   ]
  },
  {
   "cell_type": "markdown",
   "metadata": {},
   "source": [
    "### ----- Votre réponse ci-dessous -----"
   ]
  },
  {
   "cell_type": "code",
   "execution_count": null,
   "metadata": {},
   "outputs": [],
   "source": []
  },
  {
   "cell_type": "markdown",
   "metadata": {},
   "source": [
    " ### Question 1-2 - Considérant un seuil de support de 0.2, combien d'itemsets sont fréquents ? (1 point)"
   ]
  },
  {
   "cell_type": "markdown",
   "metadata": {},
   "source": [
    "### ----- Votre réponse ci-dessous -----"
   ]
  },
  {
   "cell_type": "code",
   "execution_count": null,
   "metadata": {},
   "outputs": [],
   "source": []
  },
  {
   "cell_type": "markdown",
   "metadata": {},
   "source": [
    "### Question 1-3 - Considérant toujours un seuil de support de 0.2, quel est l'indice de confiance de la règle d'association { Sylvester Stallone } => { Dolph Lundgren } ? (1 point)"
   ]
  },
  {
   "cell_type": "markdown",
   "metadata": {},
   "source": [
    "### ----- Votre réponse ci-dessous -----"
   ]
  },
  {
   "cell_type": "code",
   "execution_count": null,
   "metadata": {},
   "outputs": [],
   "source": []
  },
  {
   "cell_type": "markdown",
   "metadata": {},
   "source": [
    "---\n",
    "# EXERCICE 2 - ANALYSE DE TWEETS (15 POINTS)"
   ]
  },
  {
   "cell_type": "markdown",
   "metadata": {},
   "source": [
    "Cet exercice consiste à réaliser l'analyse d'un corpus de tweets à l'aide des différentes méthodes d'apprentissage non supervisé étudiées en cours. Le corpus est constitué de tweets collectés depuis Twitter sur différents sujets ou thèmes. Deux fichiers sont fournis dans le répertoire `data`:\n",
    "* `tweets_raw.csv`: champ `text` des tweets non transformés\n",
    "* `tweets_prc.csv`: champ `text` préparé pour l'analyse (casse, suppression des caractère spéciaux et numérique, suppression des stopwords, URLs, stemming, etc...)\n",
    "\n",
    "**Le fichier contenant les tweets originaux n'est requis que pour les questions 1-2 et 4-2.**\n",
    "\n",
    "Un fichier `helpers.py` contenant quelques fonctions utilitaires vous est fourni.\n",
    "\n",
    "**Les parties 1 et 2 doivent être traitées dans l'ordre et en premier. Les parties 3 et 4 sont indépendantes entre elles, mais nécéssitent d'avoir répondu aux questions des parties 1 et 2.**"
   ]
  },
  {
   "cell_type": "markdown",
   "metadata": {},
   "source": [
    "---\n",
    "# 0 - Librairies"
   ]
  },
  {
   "cell_type": "code",
   "execution_count": null,
   "metadata": {},
   "outputs": [],
   "source": [
    "import pandas as pd\n",
    "import numpy as np\n",
    "\n",
    "from sklearn.feature_extraction.text import TfidfVectorizer\n",
    "from sklearn.cluster import AgglomerativeClustering\n",
    "\n",
    "import matplotlib.pyplot as plt\n",
    "import seaborn as sns\n",
    "\n",
    "from sklearn.decomposition import PCA\n",
    "from sklearn.neighbors import NearestNeighbors\n",
    "\n",
    "from mlxtend.preprocessing import TransactionEncoder\n",
    "from mlxtend.frequent_patterns import apriori\n",
    "from mlxtend.frequent_patterns import association_rules\n",
    "\n",
    "from helpers import *"
   ]
  },
  {
   "cell_type": "markdown",
   "metadata": {},
   "source": [
    "---\n",
    "# 1 - Chargement des données (2 points)"
   ]
  },
  {
   "cell_type": "markdown",
   "metadata": {},
   "source": [
    "### Question 1-1 - Chargez le jeu de données comprenant les tweets préparés et stockez les dans une trame de donnée nommé corpus. Combien de tweets comprend le jeu de données ? (1 point)"
   ]
  },
  {
   "cell_type": "markdown",
   "metadata": {},
   "source": [
    "### ----- Votre réponse ci-dessous -----"
   ]
  },
  {
   "cell_type": "code",
   "execution_count": null,
   "metadata": {},
   "outputs": [],
   "source": []
  },
  {
   "cell_type": "markdown",
   "metadata": {},
   "source": [
    "### Question 1-2 - À vue d'œuil, le jeu de données contient-il des tweets sur différents sujets ? Citez deux sujets ou thématiques éventuellement présentes dans ce corpus. (1 point)"
   ]
  },
  {
   "cell_type": "markdown",
   "metadata": {},
   "source": [
    "### ----- Votre réponse ci-dessous -----"
   ]
  },
  {
   "cell_type": "markdown",
   "metadata": {},
   "source": []
  },
  {
   "cell_type": "markdown",
   "metadata": {},
   "source": [
    "---\n",
    "# 2 - Extraction de la représentation numérique des tweets (3 points)"
   ]
  },
  {
   "cell_type": "markdown",
   "metadata": {},
   "source": [
    "### Question 2-1 - Pourquoi la représentation TF-IDF est-elle préférable dans le cas présent à la représentation par sacs de mots ? Justifiez et illustrez votre réponse à l'aide d'un exemple. (2 points)"
   ]
  },
  {
   "cell_type": "markdown",
   "metadata": {},
   "source": [
    "### ----- Votre réponse ci-dessous -----"
   ]
  },
  {
   "cell_type": "markdown",
   "metadata": {},
   "source": []
  },
  {
   "cell_type": "markdown",
   "metadata": {},
   "source": [
    "### Question 2-2 -  Réalisez l'extraction des représentations TF-IDF correspondant aux tweets préparés et stockez les dans une variable nommée `X`. (1 point)"
   ]
  },
  {
   "cell_type": "markdown",
   "metadata": {},
   "source": [
    "Indice: la fonction `TfidfVectorizer` de la librairie scikit learn vous sera utile\n",
    "[sklearn.feature_extraction.text.TfidfVectorizer](https://scikit-learn.org/stable/modules/generated/sklearn.feature_extraction.text.TfidfVectorizer.html)"
   ]
  },
  {
   "cell_type": "markdown",
   "metadata": {},
   "source": [
    "### ----- Votre réponse ci-dessous -----"
   ]
  },
  {
   "cell_type": "code",
   "execution_count": null,
   "metadata": {},
   "outputs": [],
   "source": []
  },
  {
   "cell_type": "markdown",
   "metadata": {},
   "source": [
    "La taille du dictionnaire est donnée par la fonction `get_feature_names_out()`. Le code ci-dessous vous permet de tester si vous obtenez bien le bon nombre de mots. La cellule doit s'exécuter sans erreur"
   ]
  },
  {
   "cell_type": "code",
   "execution_count": null,
   "metadata": {},
   "outputs": [],
   "source": [
    "assert len(vectorizer.get_feature_names_out()) == 930"
   ]
  },
  {
   "cell_type": "markdown",
   "metadata": {},
   "source": [
    "---\n",
    "# 3 - Recherche de sujets (groupes de tweets) (5 points)"
   ]
  },
  {
   "cell_type": "markdown",
   "metadata": {},
   "source": [
    "### Question 3-1 - À l'aide de la technique du partitionnement hiérarchique, recherchez les sujets ou thématiques présentes dans le corpus. Donnez une estimation du nombre de sujets. (3 points)"
   ]
  },
  {
   "cell_type": "markdown",
   "metadata": {},
   "source": [
    "### ----- Votre réponse ci-dessous -----"
   ]
  },
  {
   "cell_type": "code",
   "execution_count": null,
   "metadata": {},
   "outputs": [],
   "source": []
  },
  {
   "cell_type": "markdown",
   "metadata": {},
   "source": [
    "### Question 3-2 - À l'aide d'une ACP, visualisez (scatterplot) les clusters obtenus. Cette visualisation est-elle utile ? (2 points)"
   ]
  },
  {
   "cell_type": "markdown",
   "metadata": {},
   "source": [
    "### ----- Votre réponse ci-dessous -----"
   ]
  },
  {
   "cell_type": "code",
   "execution_count": null,
   "metadata": {},
   "outputs": [],
   "source": []
  },
  {
   "cell_type": "markdown",
   "metadata": {},
   "source": [
    "---\n",
    "# 4 - Recherche de tweets similaires (5 points)"
   ]
  },
  {
   "cell_type": "markdown",
   "metadata": {},
   "source": [
    "Soit le tweet suivant:\n",
    "    \n",
    "**@elonmusk #BREAKING: Elon Musk, CEO of Tesla &amp; SpaceX Do Not Sleep!**\n",
    "\n",
    "et sa version préparée:\n",
    "\n",
    "**break elon musk ceo tesla spacex sleep**"
   ]
  },
  {
   "cell_type": "markdown",
   "metadata": {},
   "source": [
    "### Question 4-1 - À l'aide d'une méthode vue en cours (KNN, similarité cosinus, ...), quels sont les 5 tweets du corpus les plus similaires à ce nouveau tweet ? Donnez les index et les distances/similarités. (3 points)"
   ]
  },
  {
   "cell_type": "markdown",
   "metadata": {},
   "source": [
    "### ----- Votre réponse ci-dessous -----"
   ]
  },
  {
   "cell_type": "code",
   "execution_count": null,
   "metadata": {},
   "outputs": [],
   "source": []
  },
  {
   "cell_type": "markdown",
   "metadata": {},
   "source": [
    "### Question 4-2 - Afficher les 5 tweets identifiés précédemment (format complet / brute). (2 points)"
   ]
  },
  {
   "cell_type": "markdown",
   "metadata": {},
   "source": [
    "### ----- Votre réponse ci-dessous -----"
   ]
  },
  {
   "cell_type": "code",
   "execution_count": null,
   "metadata": {},
   "outputs": [],
   "source": []
  },
  {
   "cell_type": "markdown",
   "metadata": {},
   "source": [
    "## Fin de l'examen de mi-session"
   ]
  }
 ],
 "metadata": {
  "kernelspec": {
   "display_name": "420-a58-sf",
   "language": "python",
   "name": "420-a58-sf"
  },
  "language_info": {
   "codemirror_mode": {
    "name": "ipython",
    "version": 3
   },
   "file_extension": ".py",
   "mimetype": "text/x-python",
   "name": "python",
   "nbconvert_exporter": "python",
   "pygments_lexer": "ipython3",
   "version": "3.8.10"
  }
 },
 "nbformat": 4,
 "nbformat_minor": 4
}
