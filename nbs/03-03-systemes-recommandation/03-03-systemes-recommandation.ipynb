{
 "cells": [
  {
   "cell_type": "markdown",
   "metadata": {},
   "source": [
    "**420-A58-SF - Algorithmes d'apprentissage non supervisé - Été 2021 - Spécialisation technique en Intelligence Artificielle**<br/>\n",
    "MIT License - Copyright (c) 2021 Mikaël Swawola\n",
    "<br/>\n",
    "![Travaux Pratiques - Systèmes de recommandation](static/03-03-banner.png)\n",
    "<br/>\n",
    "**Objectif: Implémenter et évaluer l'algorithme de filtrage collaboratif sur un jeu de données constitué de notations de films et effectuer des prédictions sur de nouveaux utilisateurs**"
   ]
  },
  {
   "cell_type": "code",
   "execution_count": 1,
   "metadata": {},
   "outputs": [],
   "source": [
    "%reload_ext autoreload\n",
    "%autoreload 2\n",
    "%matplotlib inline"
   ]
  },
  {
   "cell_type": "code",
   "execution_count": 2,
   "metadata": {},
   "outputs": [],
   "source": [
    "import numpy as np\n",
    "import pandas as pd\n",
    "import matplotlib.pyplot as plt\n",
    "\n",
    "plt.rcParams[\"figure.figsize\"] = (12,8)"
   ]
  },
  {
   "cell_type": "markdown",
   "metadata": {},
   "source": [
    "## 1 - Chargement et exploration sommaire des données"
   ]
  },
  {
   "cell_type": "markdown",
   "metadata": {},
   "source": [
    "Nous commencons par charger le jeu de données des notations de films et essayons de comprendre la structure des données"
   ]
  },
  {
   "cell_type": "markdown",
   "metadata": {},
   "source": [
    "**Exercice 1-1 - À l'aide de NumPy, chargez le jeu de données contenu dans le fichier `movies.npz`. Quels tableaux sont disponibles dans ce fichier ?**"
   ]
  },
  {
   "cell_type": "code",
   "execution_count": 5,
   "metadata": {},
   "outputs": [
    {
     "data": {
      "text/plain": [
       "['Y', 'R']"
      ]
     },
     "execution_count": 5,
     "metadata": {},
     "output_type": "execute_result"
    }
   ],
   "source": [
    "# Compléter cette cellule ~ 2 lignes de code\n",
    "movies = np.load('../../data/movies.npz')\n",
    "movies.files"
   ]
  },
  {
   "cell_type": "markdown",
   "metadata": {},
   "source": [
    "**Exercice 1-2 - Quelles sont les dimensions respectives des tableaux contenus dans l'objet `movies` ?**"
   ]
  },
  {
   "cell_type": "code",
   "execution_count": 8,
   "metadata": {},
   "outputs": [
    {
     "name": "stdout",
     "output_type": "stream",
     "text": [
      "Y = (1682, 943)\n",
      "R = (1682, 943)\n"
     ]
    }
   ],
   "source": [
    "# Compléter cette cellule ~ 2 lignes de code\n",
    "print(f\"Y = {movies['Y'].shape}\")\n",
    "print(f\"R = {movies['R'].shape}\")"
   ]
  },
  {
   "cell_type": "markdown",
   "metadata": {},
   "source": [
    "**Exercice 1-3 - Quel est le type de notation utilisée ?**"
   ]
  },
  {
   "cell_type": "code",
   "execution_count": 13,
   "metadata": {},
   "outputs": [
    {
     "name": "stdout",
     "output_type": "stream",
     "text": [
      "Notes = [0 1 2 3 4 5]\n"
     ]
    }
   ],
   "source": [
    "# Compléter cette cellule ~ 1 ligne de code\n",
    "print(f\"Notes = {np.unique(movies['Y'])}\")"
   ]
  },
  {
   "cell_type": "markdown",
   "metadata": {},
   "source": [
    "**Exercice 1-4 - Calculer la moyenne des notes du premier film. Identifiez ce film à l'aide du fichier movie_ids.txt**"
   ]
  },
  {
   "cell_type": "code",
   "execution_count": 21,
   "metadata": {},
   "outputs": [
    {
     "data": {
      "text/plain": [
       "3.8783185840707963"
      ]
     },
     "execution_count": 21,
     "metadata": {},
     "output_type": "execute_result"
    }
   ],
   "source": [
    "# Compléter cette cellule ~ 1-4 lignes de code\n",
    "Y_ = movies['Y']\n",
    "R_ = movies['R']\n",
    "\n",
    "#Y_[0,...].mean()\n",
    "rated_0 = R_[0,:] == 1\n",
    "rated_0\n",
    "Y_[0,rated_0].mean()"
   ]
  },
  {
   "cell_type": "code",
   "execution_count": 22,
   "metadata": {},
   "outputs": [
    {
     "name": "stdout",
     "output_type": "stream",
     "text": [
      "1 Toy Story (1995)\r\n",
      "2 GoldenEye (1995)\r\n",
      "3 Four Rooms (1995)\r\n",
      "4 Get Shorty (1995)\r\n",
      "5 Copycat (1995)\r\n",
      "6 Shanghai Triad (Yao a yao yao dao waipo qiao) (1995)\r\n",
      "7 Twelve Monkeys (1995)\r\n",
      "8 Babe (1995)\r\n",
      "9 Dead Man Walking (1995)\r\n",
      "10 Richard III (1995)\r\n"
     ]
    }
   ],
   "source": [
    "!cat ../../data/movie_ids.txt | head"
   ]
  },
  {
   "cell_type": "markdown",
   "metadata": {},
   "source": [
    "**Exercice 1-5 - À l'aide d'une méthode de votre choix, afficher la matrice d'utilité. Que constatez-vous ?**"
   ]
  },
  {
   "cell_type": "code",
   "execution_count": 37,
   "metadata": {},
   "outputs": [
    {
     "data": {
      "text/plain": [
       "<matplotlib.image.AxesImage at 0x7f88408aab20>"
      ]
     },
     "execution_count": 37,
     "metadata": {},
     "output_type": "execute_result"
    },
    {
     "data": {
      "image/png": "[encoded data removed]",
      "text/plain": [
       "<Figure size 864x576 with 1 Axes>"
      ]
     },
     "metadata": {
      "needs_background": "light"
     },
     "output_type": "display_data"
    }
   ],
   "source": [
    "# Compléter cette cellule ~ 1-2 lignes de code\n",
    "plt.imshow(Y_, cmap='hot', interpolation='nearest')"
   ]
  },
  {
   "cell_type": "markdown",
   "metadata": {},
   "source": [
    "## 2 - Filtrage collaboratif"
   ]
  },
  {
   "cell_type": "markdown",
   "metadata": {},
   "source": [
    "Nous allons maintenant implémenter l'algorithme de filtrage collaboratif. Afin de faciliter la tâche, nous allons y aller en plusieurs étapes ;-)"
   ]
  },
  {
   "cell_type": "markdown",
   "metadata": {},
   "source": [
    "**Exercice 2-1 - \"Retirer\" des données du jeu d'entraînement pour constituer un jeu de test. Prenez 10% des notes pour le test**"
   ]
  },
  {
   "cell_type": "code",
   "execution_count": 47,
   "metadata": {},
   "outputs": [
    {
     "data": {
      "text/plain": [
       "90000"
      ]
     },
     "execution_count": 47,
     "metadata": {},
     "output_type": "execute_result"
    }
   ],
   "source": [
    "# Compléter cette cellule ~ 1-2 lignes de code\n",
    "np.random.seed(2021)\n",
    "\n",
    "#R_.sum()\n",
    "indexes = np.where(R_ == 1)\n",
    "\n",
    "mask = np.random.choice(indexes[0].shape[0], int(0.1 * indexes[0].shape[0]), replace=False)\n",
    "\n",
    "test_0 = indexes[0][mask]\n",
    "test_1 = indexes[1][mask]\n",
    "\n",
    "R = R_.copy()\n",
    "R[test_0, test_1] = 0\n",
    "Y = Y_\n",
    "\n",
    "R.sum()"
   ]
  },
  {
   "cell_type": "markdown",
   "metadata": {},
   "source": [
    "**Exercice 2-2 - Initialiser les variables `n_movies`, `n_users`. Initialiez aussi n (nombre de features du vecteur profile) à 10**"
   ]
  },
  {
   "cell_type": "code",
   "execution_count": 51,
   "metadata": {},
   "outputs": [],
   "source": [
    "# Compléter cette cellule ~ 3 lignes de code\n",
    "n_movies = Y.shape[0]\n",
    "n_users = Y.shape[1]\n",
    "n = 10"
   ]
  },
  {
   "cell_type": "markdown",
   "metadata": {},
   "source": [
    "**Exercice 2-3 - Initialiser aléatoirement les vecteurs $\\theta$ et $X$**"
   ]
  },
  {
   "cell_type": "code",
   "execution_count": 53,
   "metadata": {},
   "outputs": [],
   "source": [
    "# Compléter cette cellule ~ 2-3 lignes de code\n",
    "np.random.seed(2021)\n",
    "\n",
    "theta = np.random.rand(n_users, n)\n",
    "X = np.random.rand(n_movies, n)"
   ]
  },
  {
   "cell_type": "code",
   "execution_count": 58,
   "metadata": {},
   "outputs": [
    {
     "name": "stdout",
     "output_type": "stream",
     "text": [
      "(1682, 10)\n",
      "(943, 10)\n"
     ]
    }
   ],
   "source": [
    "print(X.shape)\n",
    "print(theta.shape)"
   ]
  },
  {
   "cell_type": "markdown",
   "metadata": {},
   "source": [
    "**Exercice 2-4 - Calculer la fonction de coût non régularisée telle que vue en cours**"
   ]
  },
  {
   "cell_type": "code",
   "execution_count": 60,
   "metadata": {},
   "outputs": [
    {
     "data": {
      "text/plain": [
       "123405.54229177441"
      ]
     },
     "execution_count": 60,
     "metadata": {},
     "output_type": "execute_result"
    }
   ],
   "source": [
    "# Compléter cette cellule ~ 3 lignes de code\n",
    "\n",
    "J = R * (np.dot(X,theta.T) - Y)\n",
    "J = 0.5 * (J**2)\n",
    "J = J.sum()\n",
    "J"
   ]
  },
  {
   "cell_type": "markdown",
   "metadata": {},
   "source": [
    "**Exercice 2-5 - Ajouter les termes de régularisation au coût calculé précédemment. Prenez $\\lambda=10$**"
   ]
  },
  {
   "cell_type": "code",
   "execution_count": null,
   "metadata": {},
   "outputs": [],
   "source": [
    "# Compléter cette cellule ~ 1-2 lignes de code"
   ]
  },
  {
   "cell_type": "markdown",
   "metadata": {},
   "source": [
    "**Exercice 2-6 - À l'aide des question précédentes, complétez la fonction `cost_reg_func()` permettant de calculer le coût régularisé. Notez que pour faciliter l'étape d'apprentissage plus bas dans le notebook, cette fonction n'accepte les paramètres que sous la forme d'un seul vecteur.**"
   ]
  },
  {
   "cell_type": "code",
   "execution_count": null,
   "metadata": {},
   "outputs": [],
   "source": [
    "def cost_reg_func(parameters, *args):\n",
    "    \n",
    "    # Obtient les arguments de la fonction\n",
    "    Y, R, L, n_movies, n_users, n = args\n",
    "    \n",
    "    # \"Déroule\" le vecteur de paramètres\n",
    "    parameters = parameters.reshape(n_movies + n_users, n)\n",
    "    \n",
    "    # \"Sépare\" X et theta\n",
    "    X = parameters[:n_movies,:]\n",
    "    theta = parameters[n_movies:,]\n",
    "    \n",
    "    # Compléter le code ci-dessous ~ 1-4 lignes de code\n",
    "    \n",
    "    None\n",
    "\n",
    "    return J_reg"
   ]
  },
  {
   "cell_type": "markdown",
   "metadata": {},
   "source": [
    "La cellule ci-dessous permet de tester la fonction `cost_reg_func`. Vous devriez obtenir une valuer identique à celle de la **question 2-3**"
   ]
  },
  {
   "cell_type": "code",
   "execution_count": null,
   "metadata": {},
   "outputs": [],
   "source": [
    "parameters = np.vstack([X, theta]).flatten()\n",
    "cost_reg_func(parameters, *(Y, R, 10, n_movies, n_users, n))"
   ]
  },
  {
   "cell_type": "markdown",
   "metadata": {},
   "source": [
    "**Exercice 2-7 - Calculez les gradient non régularisés de $X$ et $\\theta$**"
   ]
  },
  {
   "cell_type": "code",
   "execution_count": null,
   "metadata": {},
   "outputs": [],
   "source": [
    "# Compléter cette cellule ~ 2-4 lignes de code"
   ]
  },
  {
   "cell_type": "markdown",
   "metadata": {},
   "source": [
    "**Exercice 2-8 - Ajoutez la régularisation aux gradients calculés précédemment**"
   ]
  },
  {
   "cell_type": "code",
   "execution_count": null,
   "metadata": {},
   "outputs": [],
   "source": [
    "# Compléter cette cellule ~ 2-3 lignes de code"
   ]
  },
  {
   "cell_type": "markdown",
   "metadata": {},
   "source": [
    "**Exercice 2-9 - À l'aide des question précédentes, complétez la fonction `grad_reg_func()` permettant de calculer les gradients régularisés. Comme pour l'exercice 2-4, notez que pour faciliter l'étape d'apprentissage plus bas dans le notebook, cette fonction n'accepte les paramètres que sous la forme d'un seul vecteur.**"
   ]
  },
  {
   "cell_type": "code",
   "execution_count": null,
   "metadata": {},
   "outputs": [],
   "source": [
    "def grad_reg_func(parameters, *args):\n",
    "    # Obtient les arguments de la fonction\n",
    "    Y, R, L, n_movies, n_users, n = args\n",
    "    \n",
    "    # \"Déroule\" le vecteur de paramètres\n",
    "    parameters = parameters.reshape(n_movies + n_users, n)\n",
    "    \n",
    "    # \"Sépare\" X et theta\n",
    "    X = parameters[:n_movies,:]\n",
    "    theta = parameters[n_movies:,]\n",
    "    \n",
    "    # Compléter le code ci-dessous ~ 6 lignes de code\n",
    "    \n",
    "    None\n",
    "    \n",
    "    # Cette fonction doit retourner les gradients sous forme d'un seul vecteur\n",
    "    return np.vstack([X_grad_reg, theta_grad_reg]).flatten()"
   ]
  },
  {
   "cell_type": "markdown",
   "metadata": {},
   "source": [
    "La cellule ci-dessous permet de tester la fonction `grad_reg_func`. "
   ]
  },
  {
   "cell_type": "code",
   "execution_count": null,
   "metadata": {},
   "outputs": [],
   "source": [
    "parameters = np.vstack([X, theta]).flatten()\n",
    "grad_reg_func(parameters, *(Y, R, 10, n_movies, n_users, n))"
   ]
  },
  {
   "cell_type": "markdown",
   "metadata": {},
   "source": [
    "## 3 - Entraînement du filtrage collaboratif (optionnel)"
   ]
  },
  {
   "cell_type": "markdown",
   "metadata": {},
   "source": [
    "Maintenant que nous avons les fonctions `cost_reg_func` et `grad_reg_func`, nous pouvons procéder à la phase d'entraînement de note système de recommandation basé sur le filtrage collaboratif. Pour rappel, nous devons trouver la valeur des paramètres qui minimisent la fonction de coût."
   ]
  },
  {
   "cell_type": "markdown",
   "metadata": {},
   "source": [
    "**Exercice 3-1: Avant d'entraîner votre modèle, normalisez par la moyenne les notes du jeu de données. N'oubliez pas que certaines données ont été réservées au test**"
   ]
  },
  {
   "cell_type": "code",
   "execution_count": null,
   "metadata": {},
   "outputs": [],
   "source": [
    "# Compléter cette cellule ~ 4-5 lignes de code"
   ]
  },
  {
   "cell_type": "markdown",
   "metadata": {},
   "source": [
    "**Exercice 3-2: Entraînez votre modèle à l'aide de la fonction `fmin_cg` de la librairie SciPy. Référez-vous à la documentation ci-dessous pour les détails de mise en oeuvre. Prenez $\\lambda=10$**<br/>\n",
    "[scipy.optimize.fmin_cg](https://docs.scipy.org/doc/scipy/reference/generated/scipy.optimize.fmin_cg.html)<br/>\n",
    "**Remarque: selon votre machine, l'optimisation peut durer plusieurs minutes**"
   ]
  },
  {
   "cell_type": "code",
   "execution_count": null,
   "metadata": {},
   "outputs": [],
   "source": [
    "# Compléter la cellule ci-dessous"
   ]
  },
  {
   "cell_type": "markdown",
   "metadata": {},
   "source": [
    "## 4 - Effectuer les prédiction"
   ]
  },
  {
   "cell_type": "markdown",
   "metadata": {},
   "source": [
    "**Exercice 4-1 - À l'aide des éléments vus en cours, effectuez les prédictions (vous devrez d'abord \"extraire\" les vecteur $X$ et $\\theta$ du modèle. Calculez la moyenne des prédictions pour le premier film de la liste. Comparez avec la valeur obtenue à l'exercice 1-4**"
   ]
  },
  {
   "cell_type": "code",
   "execution_count": null,
   "metadata": {},
   "outputs": [],
   "source": [
    "# Compléter cette cellule ~ 1-2 lignes de code"
   ]
  },
  {
   "cell_type": "markdown",
   "metadata": {},
   "source": [
    "**Exercice 4-2 - Calculez l'erreur de prédiction sur le jeu de test.Choisissez une métrique appropriée**"
   ]
  },
  {
   "cell_type": "code",
   "execution_count": null,
   "metadata": {},
   "outputs": [],
   "source": [
    "# Compléter cette cellule ~ 2-4 lignes de code"
   ]
  },
  {
   "cell_type": "markdown",
   "metadata": {},
   "source": [
    "## 5 - Recommandation basée sur le contenu"
   ]
  },
  {
   "cell_type": "markdown",
   "metadata": {},
   "source": [
    "Nous allons maintenant ajouter un nouvel utilisateur (vous-même !) au jeu de données et apprendre le vecteurs de paramètres correspondant. Puisque nous n'ajoutons pas de nouveaux films, nous pouvons garder les vecteurs $X$ et appliquer une recommandation basée sur le contenu"
   ]
  },
  {
   "cell_type": "markdown",
   "metadata": {},
   "source": [
    "**Exercice 5-1 - En vous réferant à la liste des films, choisissez environ 10 films que vous connaissez et notez les**"
   ]
  },
  {
   "cell_type": "code",
   "execution_count": null,
   "metadata": {},
   "outputs": [],
   "source": [
    "# Compléter cette cellule ~ 2-4 lignes de code"
   ]
  },
  {
   "cell_type": "markdown",
   "metadata": {},
   "source": [
    "**Exercice 5-2 - Adaptez les fonctions `cost_reg_func` et `grad_reg_func` pour correspondre à la recommandation basée sur le contenu**"
   ]
  },
  {
   "cell_type": "code",
   "execution_count": null,
   "metadata": {},
   "outputs": [],
   "source": [
    "# Compléter cette cellule"
   ]
  },
  {
   "cell_type": "markdown",
   "metadata": {},
   "source": [
    "**Exercice 5-3 - Entraînez le modèle pour apprendre les paramètres $\\theta$ et réalisez les prédictions pour le nouvel utilisateur**"
   ]
  },
  {
   "cell_type": "code",
   "execution_count": null,
   "metadata": {},
   "outputs": [],
   "source": [
    "# Compléter cette cellule ~ 6-8 lignes de code"
   ]
  },
  {
   "cell_type": "markdown",
   "metadata": {},
   "source": [
    "## 6 - Films similaires"
   ]
  },
  {
   "cell_type": "markdown",
   "metadata": {},
   "source": [
    "**Exercice 6-1 - Trouvez le film le plus similaire à Star Wars (celui de 1977)**"
   ]
  },
  {
   "cell_type": "code",
   "execution_count": null,
   "metadata": {},
   "outputs": [],
   "source": [
    "# Compléter cette cellule ~ 10-15 lignes de code"
   ]
  },
  {
   "cell_type": "markdown",
   "metadata": {},
   "source": [
    "## Fin du TP"
   ]
  }
 ],
 "metadata": {
  "kernelspec": {
   "display_name": "420-a58-sf",
   "language": "python",
   "name": "420-a58-sf"
  },
  "language_info": {
   "codemirror_mode": {
    "name": "ipython",
    "version": 3
   },
   "file_extension": ".py",
   "mimetype": "text/x-python",
   "name": "python",
   "nbconvert_exporter": "python",
   "pygments_lexer": "ipython3",
   "version": "3.8.10"
  }
 },
 "nbformat": 4,
 "nbformat_minor": 4
}
